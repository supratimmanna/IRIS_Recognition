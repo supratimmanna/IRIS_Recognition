{
  "nbformat": 4,
  "nbformat_minor": 0,
  "metadata": {
    "colab": {
      "name": "Irisi_Recognition.ipynb",
      "provenance": []
    },
    "kernelspec": {
      "name": "python3",
      "display_name": "Python 3"
    }
  },
  "cells": [
    {
      "cell_type": "code",
      "metadata": {
        "id": "rXAeJ_vwZGhp",
        "outputId": "6a9a6f75-fc31-4a72-c23a-f2593bf079a7",
        "colab": {
          "base_uri": "https://localhost:8080/",
          "height": 51
        }
      },
      "source": [
        "\n",
        "# Importing the important libraries\n",
        "import tensorflow as tf\n",
        "from tensorflow import keras\n",
        "#from keras.applications.resnet50 import ResNet50\n",
        "from keras.layers import Dense, GlobalAveragePooling2D, Conv2D, MaxPooling2D,Flatten, Activation, Dropout\n",
        "from keras.models import Model, Sequential\n",
        "from keras.optimizers import SGD\n",
        "from keras.preprocessing.image import ImageDataGenerator\n",
        "import os\n",
        "import cv2\n",
        "\n",
        "num_classes=45\n",
        "\n",
        "img_h=32\n",
        "img_w=32\n",
        "batch_size=8\n",
        "\n",
        "train = ImageDataGenerator( rescale=1./255 )\n",
        "validation = ImageDataGenerator( rescale=1./255)\n",
        "\n",
        "train_dataset = train.flow_from_directory('/content/gdrive/My Drive/data/MMU/', target_size=(img_h,img_w),\n",
        "                                          class_mode='categorical',\n",
        "                                          batch_size=batch_size)\n",
        "\n",
        "validation_dataset = train.flow_from_directory('/content/gdrive/My Drive/data/MMU2/', target_size=(img_h,img_w),\n",
        "                                          class_mode='categorical',\n",
        "                                          batch_size=batch_size)\n"
      ],
      "execution_count": null,
      "outputs": [
        {
          "output_type": "stream",
          "text": [
            "Found 180 images belonging to 45 classes.\n",
            "Found 45 images belonging to 45 classes.\n"
          ],
          "name": "stdout"
        }
      ]
    },
    {
      "cell_type": "code",
      "metadata": {
        "id": "L83Vk4zxaMJ9"
      },
      "source": [
        "########### Create the model_1 #################\n",
        "\n",
        "learning_rate = 0.0010\n",
        "dropout=0.1\n",
        "\n",
        "model=Sequential()\n",
        "model.add(Conv2D(32, (3,3), input_shape=(img_h,img_w,3)))\n",
        "model.add(Activation('relu'))\n",
        "model.add(MaxPooling2D(pool_size=(2,2), strides=2))\n",
        "\n",
        "model.add(Conv2D(64, (5,5)))\n",
        "model.add(Activation('relu'))\n",
        "model.add(MaxPooling2D(pool_size=(2,2), strides=2))\n",
        "\n",
        "#model.add(Conv2D(128, (7,7)))\n",
        "#model.add(Activation('relu'))\n",
        "#model.add(MaxPooling2D(pool_size=(2,2), strides=2))\n",
        "\n",
        "\n",
        "model.add(Flatten())\n",
        "model.add(Dense(768))\n",
        "model.add(Dropout(dropout))\n",
        "model.add(Dense(num_classes))\n",
        "model.add(Activation('softmax'))\n",
        "\n",
        "opt = keras.optimizers.Adam(learning_rate=learning_rate)\n",
        "model.compile(optimizer=opt, loss='categorical_crossentropy',  metrics=['accuracy'])\n",
        "\n",
        "#model_fit = model.fit_generator(train_dataset, steps_per_epoch=20,\n",
        " #                               epochs=250,\n",
        "  #                              validation_data=validation_dataset)"
      ],
      "execution_count": null,
      "outputs": []
    },
    {
      "cell_type": "code",
      "metadata": {
        "id": "UOjNioDp-AwC"
      },
      "source": [
        "model.summary()"
      ],
      "execution_count": null,
      "outputs": []
    },
    {
      "cell_type": "code",
      "metadata": {
        "id": "42V2ApzPB4Zz"
      },
      "source": [
        "#### Create model_2 ########### \n",
        "# It gives more than 80% validation accuracy \n",
        "\n",
        "\n",
        "\n",
        "# Importing the important libraries\n",
        "import tensorflow as tf\n",
        "from tensorflow import keras\n",
        "#from keras.applications.resnet50 import ResNet50\n",
        "from keras.layers import Dense, GlobalAveragePooling2D, Conv2D, MaxPooling2D,Flatten, Activation, Dropout\n",
        "from keras.models import Model, Sequential\n",
        "from keras.optimizers import SGD\n",
        "from keras.preprocessing.image import ImageDataGenerator\n",
        "import os\n",
        "import cv2\n",
        "\n",
        "num_classes=224\n",
        "\n",
        "img_h=32\n",
        "img_w=32\n",
        "batch_size=16\n",
        "\n",
        "train = ImageDataGenerator( rescale=1./255 )\n",
        "validation = ImageDataGenerator( rescale=1./255)\n",
        "\n",
        "train_dataset = train.flow_from_directory('/content/gdrive/My Drive/Iris_Data_IITD/Train', target_size=(img_h,img_w),\n",
        "                                          class_mode='categorical',\n",
        "                                          batch_size=batch_size)\n",
        "\n",
        "validation_dataset = train.flow_from_directory('/content/gdrive/My Drive/Iris_Data_IITD/Validation', target_size=(img_h,img_w),\n",
        "                                          class_mode='categorical',\n",
        "                                          batch_size=batch_size)\n",
        "\n",
        "\n",
        "learning_rate = 0.00010\n",
        "dropout=0.8\n",
        "\n",
        "model=Sequential()\n",
        "model.add(Conv2D(32, (3,3), input_shape=(img_h,img_w,3)))\n",
        "model.add(Activation('relu'))\n",
        "model.add(MaxPooling2D(pool_size=(2,2), strides=2))\n",
        "\n",
        "model.add(Conv2D(64, (5,5)))\n",
        "model.add(Activation('relu'))\n",
        "model.add(MaxPooling2D(pool_size=(2,2), strides=2))\n",
        "\n",
        "#model.add(Conv2D(128, (7,7)))\n",
        "#model.add(Activation('relu'))\n",
        "#model.add(MaxPooling2D(pool_size=(2,2), strides=2))\n",
        "\n",
        "\n",
        "model.add(Flatten())\n",
        "model.add(Dense(768))\n",
        "model.add(Dropout(dropout))\n",
        "model.add(Dense(num_classes))\n",
        "model.add(Activation('softmax'))\n",
        "\n",
        "opt = keras.optimizers.Adam(learning_rate=learning_rate)\n",
        "model.compile(optimizer=opt, loss='categorical_crossentropy',  metrics=['accuracy'])\n",
        "\n",
        "model_fit = model.fit_generator(train_dataset, steps_per_epoch=20,\n",
        "                                epochs=1000,\n",
        "                                validation_data=validation_dataset)"
      ],
      "execution_count": null,
      "outputs": []
    },
    {
      "cell_type": "code",
      "metadata": {
        "id": "dU-TyaHFGI5Z"
      },
      "source": [
        "model.save_weights('iris_model_2.h5')"
      ],
      "execution_count": null,
      "outputs": []
    },
    {
      "cell_type": "code",
      "metadata": {
        "id": "7P94ytIel-ap",
        "outputId": "77f3e43a-06e2-4d6e-cc6e-6352c8b6dd29",
        "colab": {
          "base_uri": "https://localhost:8080/",
          "height": 295
        }
      },
      "source": [
        "from matplotlib import pyplot as plt\n",
        "plt.plot(model_fit.history['accuracy'])\n",
        "plt.plot(model_fit.history['val_accuracy'])\n",
        "plt.title('model accuracy')\n",
        "plt.ylabel('accuracy')\n",
        "plt.xlabel('epoch')\n",
        "plt.legend(['train', 'val'], loc='upper left')\n",
        "plt.show()"
      ],
      "execution_count": null,
      "outputs": [
        {
          "output_type": "display_data",
          "data": {
            "image/png": "[encoded data removed]",
            "text/plain": [
              "<Figure size 432x288 with 1 Axes>"
            ]
          },
          "metadata": {
            "tags": [],
            "needs_background": "light"
          }
        }
      ]
    },
    {
      "cell_type": "code",
      "metadata": {
        "id": "fwOOGq1PNNX8",
        "outputId": "24be8692-949a-4445-980e-e8afa786c85f",
        "colab": {
          "base_uri": "https://localhost:8080/",
          "height": 295
        }
      },
      "source": [
        "from matplotlib import pyplot as plt\n",
        "plt.plot(model_fit.history['loss'])\n",
        "plt.plot(model_fit.history['val_loss'])\n",
        "plt.title('model loss')\n",
        "plt.ylabel('loss')\n",
        "plt.xlabel('epoch')\n",
        "plt.legend(['train', 'val'], loc='upper left')\n",
        "plt.show()"
      ],
      "execution_count": null,
      "outputs": [
        {
          "output_type": "display_data",
          "data": {
            "image/png": "[encoded data removed]",
            "text/plain": [
              "<Figure size 432x288 with 1 Axes>"
            ]
          },
          "metadata": {
            "tags": [],
            "needs_background": "light"
          }
        }
      ]
    },
    {
      "cell_type": "code",
      "metadata": {
        "id": "TjU0fpEEtG8F",
        "outputId": "c17ad0dc-6efa-427b-c00b-446fb85fee7d",
        "colab": {
          "base_uri": "https://localhost:8080/",
          "height": 105
        }
      },
      "source": [
        "im=cv2.imread('10_L.bmp')\n",
        "img=cv2.resize(im,(32,32))\n",
        "img=np.expand_dims(img,axis=0)\n",
        "pred=model.predict(img)\n",
        "predicted_class_indices = np.argmax(pred, axis=1)\n",
        "print(predicted_class_indices)"
      ],
      "execution_count": null,
      "outputs": [
        {
          "output_type": "stream",
          "text": [
            "WARNING:tensorflow:From <ipython-input-60-db6daf618edb>:4: Model.predict_generator (from tensorflow.python.keras.engine.training) is deprecated and will be removed in a future version.\n",
            "Instructions for updating:\n",
            "Please use Model.predict, which supports generators.\n"
          ],
          "name": "stdout"
        },
        {
          "output_type": "execute_result",
          "data": {
            "text/plain": [
              "array([98])"
            ]
          },
          "metadata": {
            "tags": []
          },
          "execution_count": 60
        }
      ]
    }
  ]
}